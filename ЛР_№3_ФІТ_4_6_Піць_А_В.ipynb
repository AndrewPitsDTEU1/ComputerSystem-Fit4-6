{
  "nbformat": 4,
  "nbformat_minor": 0,
  "metadata": {
    "colab": {
      "provenance": []
    },
    "kernelspec": {
      "name": "python3",
      "display_name": "Python 3"
    },
    "language_info": {
      "name": "python"
    }
  },
  "cells": [
    {
      "cell_type": "markdown",
      "source": [
        "Лабораторна робота №3 ФІТ 4-6 Піць А. В."
      ],
      "metadata": {
        "id": "MI500l2TMM9u"
      }
    },
    {
      "cell_type": "code",
      "execution_count": 2,
      "metadata": {
        "colab": {
          "base_uri": "https://localhost:8080/",
          "height": 241
        },
        "id": "66fwG_WRMGI_",
        "outputId": "67cc56ea-1135-45ce-efe0-8a244c631ef9"
      },
      "outputs": [
        {
          "output_type": "stream",
          "name": "stdout",
          "text": [
            "Розмірність: (2338, 14)\n"
          ]
        },
        {
          "output_type": "execute_result",
          "data": {
            "text/plain": [
              "   Phoenix Feather  Unicorn Horn  Dragon's Blood  Mermaid Tears  Fairy Dust  \\\n",
              "0              2.4          18.7            18.4           27.9         7.9   \n",
              "1              2.1           6.0            15.0           13.3        15.6   \n",
              "2             17.2          13.9            23.8            6.8        10.7   \n",
              "3              8.4           9.7             6.8           26.9         4.6   \n",
              "4             22.1          10.8            16.4           10.5        22.0   \n",
              "\n",
              "   Goblin Toes  Witch's Brew  Griffin Claw  Troll Hair  Kraken Ink  \\\n",
              "0          9.6          18.3          13.2         2.5        26.0   \n",
              "1         13.1          11.0           5.0         7.2        26.0   \n",
              "2         15.8          19.4           2.7        15.4        21.2   \n",
              "3         29.1          14.6          19.7        18.0        20.8   \n",
              "4         23.4           2.6          18.2        23.8        11.3   \n",
              "\n",
              "   Minotaur Horn  Basilisk Scale  Chimera Fang  Cured  \n",
              "0           10.5            26.2          12.5      0  \n",
              "1            1.5            13.3           6.2      0  \n",
              "2           11.1            16.6          11.4      1  \n",
              "3           13.6            13.9           8.1      1  \n",
              "4            5.5            16.8          16.2      0  "
            ],
            "text/html": [
              "\n",
              "  <div id=\"df-9fef4511-dfa0-48f8-83c5-bc3423c6e195\" class=\"colab-df-container\">\n",
              "    <div>\n",
              "<style scoped>\n",
              "    .dataframe tbody tr th:only-of-type {\n",
              "        vertical-align: middle;\n",
              "    }\n",
              "\n",
              "    .dataframe tbody tr th {\n",
              "        vertical-align: top;\n",
              "    }\n",
              "\n",
              "    .dataframe thead th {\n",
              "        text-align: right;\n",
              "    }\n",
              "</style>\n",
              "<table border=\"1\" class=\"dataframe\">\n",
              "  <thead>\n",
              "    <tr style=\"text-align: right;\">\n",
              "      <th></th>\n",
              "      <th>Phoenix Feather</th>\n",
              "      <th>Unicorn Horn</th>\n",
              "      <th>Dragon's Blood</th>\n",
              "      <th>Mermaid Tears</th>\n",
              "      <th>Fairy Dust</th>\n",
              "      <th>Goblin Toes</th>\n",
              "      <th>Witch's Brew</th>\n",
              "      <th>Griffin Claw</th>\n",
              "      <th>Troll Hair</th>\n",
              "      <th>Kraken Ink</th>\n",
              "      <th>Minotaur Horn</th>\n",
              "      <th>Basilisk Scale</th>\n",
              "      <th>Chimera Fang</th>\n",
              "      <th>Cured</th>\n",
              "    </tr>\n",
              "  </thead>\n",
              "  <tbody>\n",
              "    <tr>\n",
              "      <th>0</th>\n",
              "      <td>2.4</td>\n",
              "      <td>18.7</td>\n",
              "      <td>18.4</td>\n",
              "      <td>27.9</td>\n",
              "      <td>7.9</td>\n",
              "      <td>9.6</td>\n",
              "      <td>18.3</td>\n",
              "      <td>13.2</td>\n",
              "      <td>2.5</td>\n",
              "      <td>26.0</td>\n",
              "      <td>10.5</td>\n",
              "      <td>26.2</td>\n",
              "      <td>12.5</td>\n",
              "      <td>0</td>\n",
              "    </tr>\n",
              "    <tr>\n",
              "      <th>1</th>\n",
              "      <td>2.1</td>\n",
              "      <td>6.0</td>\n",
              "      <td>15.0</td>\n",
              "      <td>13.3</td>\n",
              "      <td>15.6</td>\n",
              "      <td>13.1</td>\n",
              "      <td>11.0</td>\n",
              "      <td>5.0</td>\n",
              "      <td>7.2</td>\n",
              "      <td>26.0</td>\n",
              "      <td>1.5</td>\n",
              "      <td>13.3</td>\n",
              "      <td>6.2</td>\n",
              "      <td>0</td>\n",
              "    </tr>\n",
              "    <tr>\n",
              "      <th>2</th>\n",
              "      <td>17.2</td>\n",
              "      <td>13.9</td>\n",
              "      <td>23.8</td>\n",
              "      <td>6.8</td>\n",
              "      <td>10.7</td>\n",
              "      <td>15.8</td>\n",
              "      <td>19.4</td>\n",
              "      <td>2.7</td>\n",
              "      <td>15.4</td>\n",
              "      <td>21.2</td>\n",
              "      <td>11.1</td>\n",
              "      <td>16.6</td>\n",
              "      <td>11.4</td>\n",
              "      <td>1</td>\n",
              "    </tr>\n",
              "    <tr>\n",
              "      <th>3</th>\n",
              "      <td>8.4</td>\n",
              "      <td>9.7</td>\n",
              "      <td>6.8</td>\n",
              "      <td>26.9</td>\n",
              "      <td>4.6</td>\n",
              "      <td>29.1</td>\n",
              "      <td>14.6</td>\n",
              "      <td>19.7</td>\n",
              "      <td>18.0</td>\n",
              "      <td>20.8</td>\n",
              "      <td>13.6</td>\n",
              "      <td>13.9</td>\n",
              "      <td>8.1</td>\n",
              "      <td>1</td>\n",
              "    </tr>\n",
              "    <tr>\n",
              "      <th>4</th>\n",
              "      <td>22.1</td>\n",
              "      <td>10.8</td>\n",
              "      <td>16.4</td>\n",
              "      <td>10.5</td>\n",
              "      <td>22.0</td>\n",
              "      <td>23.4</td>\n",
              "      <td>2.6</td>\n",
              "      <td>18.2</td>\n",
              "      <td>23.8</td>\n",
              "      <td>11.3</td>\n",
              "      <td>5.5</td>\n",
              "      <td>16.8</td>\n",
              "      <td>16.2</td>\n",
              "      <td>0</td>\n",
              "    </tr>\n",
              "  </tbody>\n",
              "</table>\n",
              "</div>\n",
              "    <div class=\"colab-df-buttons\">\n",
              "\n",
              "  <div class=\"colab-df-container\">\n",
              "    <button class=\"colab-df-convert\" onclick=\"convertToInteractive('df-9fef4511-dfa0-48f8-83c5-bc3423c6e195')\"\n",
              "            title=\"Convert this dataframe to an interactive table.\"\n",
              "            style=\"display:none;\">\n",
              "\n",
              "  <svg xmlns=\"http://www.w3.org/2000/svg\" height=\"24px\" viewBox=\"0 -960 960 960\">\n",
              "    <path d=\"M120-120v-720h720v720H120Zm60-500h600v-160H180v160Zm220 220h160v-160H400v160Zm0 220h160v-160H400v160ZM180-400h160v-160H180v160Zm440 0h160v-160H620v160ZM180-180h160v-160H180v160Zm440 0h160v-160H620v160Z\"/>\n",
              "  </svg>\n",
              "    </button>\n",
              "\n",
              "  <style>\n",
              "    .colab-df-container {\n",
              "      display:flex;\n",
              "      gap: 12px;\n",
              "    }\n",
              "\n",
              "    .colab-df-convert {\n",
              "      background-color: #E8F0FE;\n",
              "      border: none;\n",
              "      border-radius: 50%;\n",
              "      cursor: pointer;\n",
              "      display: none;\n",
              "      fill: #1967D2;\n",
              "      height: 32px;\n",
              "      padding: 0 0 0 0;\n",
              "      width: 32px;\n",
              "    }\n",
              "\n",
              "    .colab-df-convert:hover {\n",
              "      background-color: #E2EBFA;\n",
              "      box-shadow: 0px 1px 2px rgba(60, 64, 67, 0.3), 0px 1px 3px 1px rgba(60, 64, 67, 0.15);\n",
              "      fill: #174EA6;\n",
              "    }\n",
              "\n",
              "    .colab-df-buttons div {\n",
              "      margin-bottom: 4px;\n",
              "    }\n",
              "\n",
              "    [theme=dark] .colab-df-convert {\n",
              "      background-color: #3B4455;\n",
              "      fill: #D2E3FC;\n",
              "    }\n",
              "\n",
              "    [theme=dark] .colab-df-convert:hover {\n",
              "      background-color: #434B5C;\n",
              "      box-shadow: 0px 1px 3px 1px rgba(0, 0, 0, 0.15);\n",
              "      filter: drop-shadow(0px 1px 2px rgba(0, 0, 0, 0.3));\n",
              "      fill: #FFFFFF;\n",
              "    }\n",
              "  </style>\n",
              "\n",
              "    <script>\n",
              "      const buttonEl =\n",
              "        document.querySelector('#df-9fef4511-dfa0-48f8-83c5-bc3423c6e195 button.colab-df-convert');\n",
              "      buttonEl.style.display =\n",
              "        google.colab.kernel.accessAllowed ? 'block' : 'none';\n",
              "\n",
              "      async function convertToInteractive(key) {\n",
              "        const element = document.querySelector('#df-9fef4511-dfa0-48f8-83c5-bc3423c6e195');\n",
              "        const dataTable =\n",
              "          await google.colab.kernel.invokeFunction('convertToInteractive',\n",
              "                                                    [key], {});\n",
              "        if (!dataTable) return;\n",
              "\n",
              "        const docLinkHtml = 'Like what you see? Visit the ' +\n",
              "          '<a target=\"_blank\" href=https://colab.research.google.com/notebooks/data_table.ipynb>data table notebook</a>'\n",
              "          + ' to learn more about interactive tables.';\n",
              "        element.innerHTML = '';\n",
              "        dataTable['output_type'] = 'display_data';\n",
              "        await google.colab.output.renderOutput(dataTable, element);\n",
              "        const docLink = document.createElement('div');\n",
              "        docLink.innerHTML = docLinkHtml;\n",
              "        element.appendChild(docLink);\n",
              "      }\n",
              "    </script>\n",
              "  </div>\n",
              "\n",
              "\n",
              "<div id=\"df-69eaa237-cf2b-42d5-9b66-aaa2a47f94e0\">\n",
              "  <button class=\"colab-df-quickchart\" onclick=\"quickchart('df-69eaa237-cf2b-42d5-9b66-aaa2a47f94e0')\"\n",
              "            title=\"Suggest charts\"\n",
              "            style=\"display:none;\">\n",
              "\n",
              "<svg xmlns=\"http://www.w3.org/2000/svg\" height=\"24px\"viewBox=\"0 0 24 24\"\n",
              "     width=\"24px\">\n",
              "    <g>\n",
              "        <path d=\"M19 3H5c-1.1 0-2 .9-2 2v14c0 1.1.9 2 2 2h14c1.1 0 2-.9 2-2V5c0-1.1-.9-2-2-2zM9 17H7v-7h2v7zm4 0h-2V7h2v10zm4 0h-2v-4h2v4z\"/>\n",
              "    </g>\n",
              "</svg>\n",
              "  </button>\n",
              "\n",
              "<style>\n",
              "  .colab-df-quickchart {\n",
              "      --bg-color: #E8F0FE;\n",
              "      --fill-color: #1967D2;\n",
              "      --hover-bg-color: #E2EBFA;\n",
              "      --hover-fill-color: #174EA6;\n",
              "      --disabled-fill-color: #AAA;\n",
              "      --disabled-bg-color: #DDD;\n",
              "  }\n",
              "\n",
              "  [theme=dark] .colab-df-quickchart {\n",
              "      --bg-color: #3B4455;\n",
              "      --fill-color: #D2E3FC;\n",
              "      --hover-bg-color: #434B5C;\n",
              "      --hover-fill-color: #FFFFFF;\n",
              "      --disabled-bg-color: #3B4455;\n",
              "      --disabled-fill-color: #666;\n",
              "  }\n",
              "\n",
              "  .colab-df-quickchart {\n",
              "    background-color: var(--bg-color);\n",
              "    border: none;\n",
              "    border-radius: 50%;\n",
              "    cursor: pointer;\n",
              "    display: none;\n",
              "    fill: var(--fill-color);\n",
              "    height: 32px;\n",
              "    padding: 0;\n",
              "    width: 32px;\n",
              "  }\n",
              "\n",
              "  .colab-df-quickchart:hover {\n",
              "    background-color: var(--hover-bg-color);\n",
              "    box-shadow: 0 1px 2px rgba(60, 64, 67, 0.3), 0 1px 3px 1px rgba(60, 64, 67, 0.15);\n",
              "    fill: var(--button-hover-fill-color);\n",
              "  }\n",
              "\n",
              "  .colab-df-quickchart-complete:disabled,\n",
              "  .colab-df-quickchart-complete:disabled:hover {\n",
              "    background-color: var(--disabled-bg-color);\n",
              "    fill: var(--disabled-fill-color);\n",
              "    box-shadow: none;\n",
              "  }\n",
              "\n",
              "  .colab-df-spinner {\n",
              "    border: 2px solid var(--fill-color);\n",
              "    border-color: transparent;\n",
              "    border-bottom-color: var(--fill-color);\n",
              "    animation:\n",
              "      spin 1s steps(1) infinite;\n",
              "  }\n",
              "\n",
              "  @keyframes spin {\n",
              "    0% {\n",
              "      border-color: transparent;\n",
              "      border-bottom-color: var(--fill-color);\n",
              "      border-left-color: var(--fill-color);\n",
              "    }\n",
              "    20% {\n",
              "      border-color: transparent;\n",
              "      border-left-color: var(--fill-color);\n",
              "      border-top-color: var(--fill-color);\n",
              "    }\n",
              "    30% {\n",
              "      border-color: transparent;\n",
              "      border-left-color: var(--fill-color);\n",
              "      border-top-color: var(--fill-color);\n",
              "      border-right-color: var(--fill-color);\n",
              "    }\n",
              "    40% {\n",
              "      border-color: transparent;\n",
              "      border-right-color: var(--fill-color);\n",
              "      border-top-color: var(--fill-color);\n",
              "    }\n",
              "    60% {\n",
              "      border-color: transparent;\n",
              "      border-right-color: var(--fill-color);\n",
              "    }\n",
              "    80% {\n",
              "      border-color: transparent;\n",
              "      border-right-color: var(--fill-color);\n",
              "      border-bottom-color: var(--fill-color);\n",
              "    }\n",
              "    90% {\n",
              "      border-color: transparent;\n",
              "      border-bottom-color: var(--fill-color);\n",
              "    }\n",
              "  }\n",
              "</style>\n",
              "\n",
              "  <script>\n",
              "    async function quickchart(key) {\n",
              "      const quickchartButtonEl =\n",
              "        document.querySelector('#' + key + ' button');\n",
              "      quickchartButtonEl.disabled = true;  // To prevent multiple clicks.\n",
              "      quickchartButtonEl.classList.add('colab-df-spinner');\n",
              "      try {\n",
              "        const charts = await google.colab.kernel.invokeFunction(\n",
              "            'suggestCharts', [key], {});\n",
              "      } catch (error) {\n",
              "        console.error('Error during call to suggestCharts:', error);\n",
              "      }\n",
              "      quickchartButtonEl.classList.remove('colab-df-spinner');\n",
              "      quickchartButtonEl.classList.add('colab-df-quickchart-complete');\n",
              "    }\n",
              "    (() => {\n",
              "      let quickchartButtonEl =\n",
              "        document.querySelector('#df-69eaa237-cf2b-42d5-9b66-aaa2a47f94e0 button');\n",
              "      quickchartButtonEl.style.display =\n",
              "        google.colab.kernel.accessAllowed ? 'block' : 'none';\n",
              "    })();\n",
              "  </script>\n",
              "</div>\n",
              "    </div>\n",
              "  </div>\n"
            ],
            "application/vnd.google.colaboratory.intrinsic+json": {
              "type": "dataframe",
              "variable_name": "df",
              "summary": "{\n  \"name\": \"df\",\n  \"rows\": 2338,\n  \"fields\": [\n    {\n      \"column\": \"Phoenix Feather\",\n      \"properties\": {\n        \"dtype\": \"number\",\n        \"std\": 8.669968650630212,\n        \"min\": 1.0,\n        \"max\": 42.1,\n        \"num_unique_values\": 362,\n        \"samples\": [\n          14.0,\n          26.7,\n          38.2\n        ],\n        \"semantic_type\": \"\",\n        \"description\": \"\"\n      }\n    },\n    {\n      \"column\": \"Unicorn Horn\",\n      \"properties\": {\n        \"dtype\": \"number\",\n        \"std\": 7.225162264299203,\n        \"min\": 1.0,\n        \"max\": 34.1,\n        \"num_unique_values\": 303,\n        \"samples\": [\n          22.3,\n          19.3,\n          21.5\n        ],\n        \"semantic_type\": \"\",\n        \"description\": \"\"\n      }\n    },\n    {\n      \"column\": \"Dragon's Blood\",\n      \"properties\": {\n        \"dtype\": \"number\",\n        \"std\": 8.3725177264872,\n        \"min\": 1.0,\n        \"max\": 40.8,\n        \"num_unique_values\": 351,\n        \"samples\": [\n          24.9,\n          6.4,\n          19.5\n        ],\n        \"semantic_type\": \"\",\n        \"description\": \"\"\n      }\n    },\n    {\n      \"column\": \"Mermaid Tears\",\n      \"properties\": {\n        \"dtype\": \"number\",\n        \"std\": 7.545244234942487,\n        \"min\": 1.0,\n        \"max\": 35.8,\n        \"num_unique_values\": 321,\n        \"samples\": [\n          15.0,\n          13.9,\n          28.7\n        ],\n        \"semantic_type\": \"\",\n        \"description\": \"\"\n      }\n    },\n    {\n      \"column\": \"Fairy Dust\",\n      \"properties\": {\n        \"dtype\": \"number\",\n        \"std\": 8.349339757089643,\n        \"min\": 1.0,\n        \"max\": 40.4,\n        \"num_unique_values\": 351,\n        \"samples\": [\n          7.3,\n          37.1,\n          28.8\n        ],\n        \"semantic_type\": \"\",\n        \"description\": \"\"\n      }\n    },\n    {\n      \"column\": \"Goblin Toes\",\n      \"properties\": {\n        \"dtype\": \"number\",\n        \"std\": 7.83147597833111,\n        \"min\": 1.0,\n        \"max\": 37.8,\n        \"num_unique_values\": 330,\n        \"samples\": [\n          5.8,\n          10.2,\n          7.7\n        ],\n        \"semantic_type\": \"\",\n        \"description\": \"\"\n      }\n    },\n    {\n      \"column\": \"Witch's Brew\",\n      \"properties\": {\n        \"dtype\": \"number\",\n        \"std\": 7.709753128300245,\n        \"min\": 1.0,\n        \"max\": 37.3,\n        \"num_unique_values\": 329,\n        \"samples\": [\n          15.7,\n          17.2,\n          22.3\n        ],\n        \"semantic_type\": \"\",\n        \"description\": \"\"\n      }\n    },\n    {\n      \"column\": \"Griffin Claw\",\n      \"properties\": {\n        \"dtype\": \"number\",\n        \"std\": 8.132678298747877,\n        \"min\": 1.0,\n        \"max\": 39.4,\n        \"num_unique_values\": 341,\n        \"samples\": [\n          22.6,\n          23.0,\n          2.4\n        ],\n        \"semantic_type\": \"\",\n        \"description\": \"\"\n      }\n    },\n    {\n      \"column\": \"Troll Hair\",\n      \"properties\": {\n        \"dtype\": \"number\",\n        \"std\": 9.57902710030655,\n        \"min\": 1.0,\n        \"max\": 44.8,\n        \"num_unique_values\": 379,\n        \"samples\": [\n          12.3,\n          29.3,\n          26.1\n        ],\n        \"semantic_type\": \"\",\n        \"description\": \"\"\n      }\n    },\n    {\n      \"column\": \"Kraken Ink\",\n      \"properties\": {\n        \"dtype\": \"number\",\n        \"std\": 8.014197206305607,\n        \"min\": 1.0,\n        \"max\": 39.5,\n        \"num_unique_values\": 345,\n        \"samples\": [\n          22.6,\n          34.6,\n          14.0\n        ],\n        \"semantic_type\": \"\",\n        \"description\": \"\"\n      }\n    },\n    {\n      \"column\": \"Minotaur Horn\",\n      \"properties\": {\n        \"dtype\": \"number\",\n        \"std\": 7.045194956066915,\n        \"min\": 1.0,\n        \"max\": 33.7,\n        \"num_unique_values\": 295,\n        \"samples\": [\n          29.3,\n          24.7,\n          6.3\n        ],\n        \"semantic_type\": \"\",\n        \"description\": \"\"\n      }\n    },\n    {\n      \"column\": \"Basilisk Scale\",\n      \"properties\": {\n        \"dtype\": \"number\",\n        \"std\": 8.55913893532507,\n        \"min\": 1.0,\n        \"max\": 42.0,\n        \"num_unique_values\": 364,\n        \"samples\": [\n          27.3,\n          27.1,\n          22.9\n        ],\n        \"semantic_type\": \"\",\n        \"description\": \"\"\n      }\n    },\n    {\n      \"column\": \"Chimera Fang\",\n      \"properties\": {\n        \"dtype\": \"number\",\n        \"std\": 8.047539582800761,\n        \"min\": 1.0,\n        \"max\": 37.8,\n        \"num_unique_values\": 330,\n        \"samples\": [\n          1.1,\n          19.1,\n          31.6\n        ],\n        \"semantic_type\": \"\",\n        \"description\": \"\"\n      }\n    },\n    {\n      \"column\": \"Cured\",\n      \"properties\": {\n        \"dtype\": \"number\",\n        \"std\": 0,\n        \"min\": 0,\n        \"max\": 1,\n        \"num_unique_values\": 2,\n        \"samples\": [\n          1,\n          0\n        ],\n        \"semantic_type\": \"\",\n        \"description\": \"\"\n      }\n    }\n  ]\n}"
            }
          },
          "metadata": {},
          "execution_count": 2
        }
      ],
      "source": [
        "#1. Імпорт бібліотек\n",
        "import pandas as pd\n",
        "import numpy as np\n",
        "import matplotlib.pyplot as plt\n",
        "import seaborn as sns\n",
        "\n",
        "from sklearn.model_selection import train_test_split\n",
        "from sklearn.preprocessing import StandardScaler\n",
        "from sklearn.linear_model import LogisticRegression\n",
        "from sklearn.metrics import accuracy_score, confusion_matrix, classification_report\n",
        "\n",
        "import tensorflow as tf\n",
        "from tensorflow.keras.models import Sequential\n",
        "from tensorflow.keras.layers import Dense\n",
        "\n",
        "#2. Завантаження даних\n",
        "df = pd.read_csv(\"data.csv\")\n",
        "print(\"Розмірність:\", df.shape)\n",
        "df.head()\n"
      ]
    },
    {
      "cell_type": "code",
      "source": [
        "#3. Аналіз і підготовка даних\n",
        "print(\"Пропущені значення:\")\n",
        "print(df.isnull().sum())\n",
        "\n",
        "print(\"\\nУнікальні значення в цільовій змінній:\")\n",
        "print(df['Cured'].value_counts())\n",
        "\n",
        "sns.countplot(data=df, x='Cured')\n",
        "plt.title(\"Розподіл класів\")\n",
        "plt.show()\n"
      ],
      "metadata": {
        "colab": {
          "base_uri": "https://localhost:8080/",
          "height": 854
        },
        "id": "61evtH6MM5kA",
        "outputId": "0d565472-a75b-44b7-9da0-97c0a52534fd"
      },
      "execution_count": 3,
      "outputs": [
        {
          "output_type": "stream",
          "name": "stdout",
          "text": [
            "Пропущені значення:\n",
            "Phoenix Feather    0\n",
            "Unicorn Horn       0\n",
            "Dragon's Blood     0\n",
            "Mermaid Tears      0\n",
            "Fairy Dust         0\n",
            "Goblin Toes        0\n",
            "Witch's Brew       0\n",
            "Griffin Claw       0\n",
            "Troll Hair         0\n",
            "Kraken Ink         0\n",
            "Minotaur Horn      0\n",
            "Basilisk Scale     0\n",
            "Chimera Fang       0\n",
            "Cured              0\n",
            "dtype: int64\n",
            "\n",
            "Унікальні значення в цільовій змінній:\n",
            "Cured\n",
            "0    1177\n",
            "1    1161\n",
            "Name: count, dtype: int64\n"
          ]
        },
        {
          "output_type": "display_data",
          "data": {
            "text/plain": [
              "<Figure size 640x480 with 1 Axes>"
            ],
            "image/png": "[encoded data removed]"
          },
          "metadata": {}
        }
      ]
    },
    {
      "cell_type": "code",
      "source": [
        "#4. Розділення даних і масштабування\n",
        "X = df.drop(\"Cured\", axis=1)\n",
        "y = df[\"Cured\"]\n",
        "\n",
        "# Поділ на train/test\n",
        "X_train, X_test, y_train, y_test = train_test_split(X, y, test_size=0.2, random_state=42)\n",
        "\n",
        "# Масштабування\n",
        "scaler = StandardScaler()\n",
        "X_train_scaled = scaler.fit_transform(X_train)\n",
        "X_test_scaled = scaler.transform(X_test)\n"
      ],
      "metadata": {
        "id": "39jv2VyeNAnG"
      },
      "execution_count": 5,
      "outputs": []
    },
    {
      "cell_type": "code",
      "source": [
        "#5. Побудова тензорів\n",
        "X_train_tensor = tf.convert_to_tensor(X_train_scaled, dtype=tf.float32)\n",
        "X_test_tensor = tf.convert_to_tensor(X_test_scaled, dtype=tf.float32)\n",
        "y_train_tensor = tf.convert_to_tensor(y_train.values, dtype=tf.float32)\n",
        "y_test_tensor = tf.convert_to_tensor(y_test.values, dtype=tf.float32)\n"
      ],
      "metadata": {
        "id": "OOjYaWZgNE6g"
      },
      "execution_count": 7,
      "outputs": []
    },
    {
      "cell_type": "code",
      "source": [
        "#6. Побудова нейронної мережі\n",
        "model = Sequential()\n",
        "model.add(Dense(32, activation='relu', input_shape=(X_train.shape[1],)))\n",
        "model.add(Dense(16, activation='relu'))\n",
        "model.add(Dense(1, activation='sigmoid'))\n",
        "\n",
        "model.compile(optimizer='adam', loss='binary_crossentropy', metrics=['accuracy'])\n",
        "\n",
        "history = model.fit(X_train_tensor, y_train_tensor, epochs=20, batch_size=32, validation_split=0.2)\n"
      ],
      "metadata": {
        "colab": {
          "base_uri": "https://localhost:8080/"
        },
        "id": "oxV52Ow1NIz5",
        "outputId": "c68922b4-4b29-4f7f-a3b8-50c074f12c18"
      },
      "execution_count": 8,
      "outputs": [
        {
          "output_type": "stream",
          "name": "stderr",
          "text": [
            "/usr/local/lib/python3.11/dist-packages/keras/src/layers/core/dense.py:87: UserWarning: Do not pass an `input_shape`/`input_dim` argument to a layer. When using Sequential models, prefer using an `Input(shape)` object as the first layer in the model instead.\n",
            "  super().__init__(activity_regularizer=activity_regularizer, **kwargs)\n"
          ]
        },
        {
          "output_type": "stream",
          "name": "stdout",
          "text": [
            "Epoch 1/20\n",
            "\u001b[1m47/47\u001b[0m \u001b[32m━━━━━━━━━━━━━━━━━━━━\u001b[0m\u001b[37m\u001b[0m \u001b[1m2s\u001b[0m 13ms/step - accuracy: 0.5201 - loss: 0.6900 - val_accuracy: 0.6444 - val_loss: 0.6428\n",
            "Epoch 2/20\n",
            "\u001b[1m47/47\u001b[0m \u001b[32m━━━━━━━━━━━━━━━━━━━━\u001b[0m\u001b[37m\u001b[0m \u001b[1m1s\u001b[0m 8ms/step - accuracy: 0.6835 - loss: 0.6312 - val_accuracy: 0.7781 - val_loss: 0.5762\n",
            "Epoch 3/20\n",
            "\u001b[1m47/47\u001b[0m \u001b[32m━━━━━━━━━━━━━━━━━━━━\u001b[0m\u001b[37m\u001b[0m \u001b[1m0s\u001b[0m 7ms/step - accuracy: 0.7917 - loss: 0.5572 - val_accuracy: 0.8422 - val_loss: 0.4932\n",
            "Epoch 4/20\n",
            "\u001b[1m47/47\u001b[0m \u001b[32m━━━━━━━━━━━━━━━━━━━━\u001b[0m\u001b[37m\u001b[0m \u001b[1m0s\u001b[0m 4ms/step - accuracy: 0.8476 - loss: 0.4719 - val_accuracy: 0.8610 - val_loss: 0.4059\n",
            "Epoch 5/20\n",
            "\u001b[1m47/47\u001b[0m \u001b[32m━━━━━━━━━━━━━━━━━━━━\u001b[0m\u001b[37m\u001b[0m \u001b[1m0s\u001b[0m 4ms/step - accuracy: 0.8702 - loss: 0.3790 - val_accuracy: 0.8904 - val_loss: 0.3415\n",
            "Epoch 6/20\n",
            "\u001b[1m47/47\u001b[0m \u001b[32m━━━━━━━━━━━━━━━━━━━━\u001b[0m\u001b[37m\u001b[0m \u001b[1m0s\u001b[0m 4ms/step - accuracy: 0.8896 - loss: 0.3138 - val_accuracy: 0.8984 - val_loss: 0.2871\n",
            "Epoch 7/20\n",
            "\u001b[1m47/47\u001b[0m \u001b[32m━━━━━━━━━━━━━━━━━━━━\u001b[0m\u001b[37m\u001b[0m \u001b[1m0s\u001b[0m 4ms/step - accuracy: 0.9044 - loss: 0.2696 - val_accuracy: 0.9251 - val_loss: 0.2521\n",
            "Epoch 8/20\n",
            "\u001b[1m47/47\u001b[0m \u001b[32m━━━━━━━━━━━━━━━━━━━━\u001b[0m\u001b[37m\u001b[0m \u001b[1m0s\u001b[0m 4ms/step - accuracy: 0.9238 - loss: 0.2287 - val_accuracy: 0.9278 - val_loss: 0.2299\n",
            "Epoch 9/20\n",
            "\u001b[1m47/47\u001b[0m \u001b[32m━━━━━━━━━━━━━━━━━━━━\u001b[0m\u001b[37m\u001b[0m \u001b[1m0s\u001b[0m 5ms/step - accuracy: 0.9456 - loss: 0.1940 - val_accuracy: 0.9278 - val_loss: 0.2123\n",
            "Epoch 10/20\n",
            "\u001b[1m47/47\u001b[0m \u001b[32m━━━━━━━━━━━━━━━━━━━━\u001b[0m\u001b[37m\u001b[0m \u001b[1m0s\u001b[0m 4ms/step - accuracy: 0.9437 - loss: 0.1875 - val_accuracy: 0.9332 - val_loss: 0.2053\n",
            "Epoch 11/20\n",
            "\u001b[1m47/47\u001b[0m \u001b[32m━━━━━━━━━━━━━━━━━━━━\u001b[0m\u001b[37m\u001b[0m \u001b[1m0s\u001b[0m 4ms/step - accuracy: 0.9363 - loss: 0.1819 - val_accuracy: 0.9251 - val_loss: 0.1911\n",
            "Epoch 12/20\n",
            "\u001b[1m47/47\u001b[0m \u001b[32m━━━━━━━━━━━━━━━━━━━━\u001b[0m\u001b[37m\u001b[0m \u001b[1m0s\u001b[0m 4ms/step - accuracy: 0.9412 - loss: 0.1732 - val_accuracy: 0.9305 - val_loss: 0.1893\n",
            "Epoch 13/20\n",
            "\u001b[1m47/47\u001b[0m \u001b[32m━━━━━━━━━━━━━━━━━━━━\u001b[0m\u001b[37m\u001b[0m \u001b[1m0s\u001b[0m 4ms/step - accuracy: 0.9394 - loss: 0.1625 - val_accuracy: 0.9305 - val_loss: 0.1841\n",
            "Epoch 14/20\n",
            "\u001b[1m47/47\u001b[0m \u001b[32m━━━━━━━━━━━━━━━━━━━━\u001b[0m\u001b[37m\u001b[0m \u001b[1m0s\u001b[0m 4ms/step - accuracy: 0.9443 - loss: 0.1568 - val_accuracy: 0.9305 - val_loss: 0.1784\n",
            "Epoch 15/20\n",
            "\u001b[1m47/47\u001b[0m \u001b[32m━━━━━━━━━━━━━━━━━━━━\u001b[0m\u001b[37m\u001b[0m \u001b[1m0s\u001b[0m 4ms/step - accuracy: 0.9536 - loss: 0.1379 - val_accuracy: 0.9278 - val_loss: 0.1739\n",
            "Epoch 16/20\n",
            "\u001b[1m47/47\u001b[0m \u001b[32m━━━━━━━━━━━━━━━━━━━━\u001b[0m\u001b[37m\u001b[0m \u001b[1m0s\u001b[0m 4ms/step - accuracy: 0.9517 - loss: 0.1413 - val_accuracy: 0.9358 - val_loss: 0.1682\n",
            "Epoch 17/20\n",
            "\u001b[1m47/47\u001b[0m \u001b[32m━━━━━━━━━━━━━━━━━━━━\u001b[0m\u001b[37m\u001b[0m \u001b[1m0s\u001b[0m 4ms/step - accuracy: 0.9536 - loss: 0.1286 - val_accuracy: 0.9358 - val_loss: 0.1700\n",
            "Epoch 18/20\n",
            "\u001b[1m47/47\u001b[0m \u001b[32m━━━━━━━━━━━━━━━━━━━━\u001b[0m\u001b[37m\u001b[0m \u001b[1m0s\u001b[0m 4ms/step - accuracy: 0.9545 - loss: 0.1247 - val_accuracy: 0.9439 - val_loss: 0.1624\n",
            "Epoch 19/20\n",
            "\u001b[1m47/47\u001b[0m \u001b[32m━━━━━━━━━━━━━━━━━━━━\u001b[0m\u001b[37m\u001b[0m \u001b[1m0s\u001b[0m 4ms/step - accuracy: 0.9538 - loss: 0.1345 - val_accuracy: 0.9492 - val_loss: 0.1593\n",
            "Epoch 20/20\n",
            "\u001b[1m47/47\u001b[0m \u001b[32m━━━━━━━━━━━━━━━━━━━━\u001b[0m\u001b[37m\u001b[0m \u001b[1m0s\u001b[0m 4ms/step - accuracy: 0.9550 - loss: 0.1257 - val_accuracy: 0.9385 - val_loss: 0.1585\n"
          ]
        }
      ]
    },
    {
      "cell_type": "code",
      "source": [
        "#7. Оцінка моделі\n",
        "loss, accuracy = model.evaluate(X_test_tensor, y_test_tensor)\n",
        "print(f\"Нейронна мережа — Точність: {accuracy:.4f}, Функція втрат: {loss:.4f}\")\n",
        "\n",
        "# Графік\n",
        "plt.plot(history.history['accuracy'], label='Точність (train)')\n",
        "plt.plot(history.history['val_accuracy'], label='Точність (val)')\n",
        "plt.title(\"Точність моделі\")\n",
        "plt.xlabel(\"Епоха\")\n",
        "plt.ylabel(\"Точність\")\n",
        "plt.legend()\n",
        "plt.show()\n"
      ],
      "metadata": {
        "colab": {
          "base_uri": "https://localhost:8080/",
          "height": 507
        },
        "id": "muaLpdbXNO5z",
        "outputId": "e153f765-bb5c-413b-df3e-97421c478812"
      },
      "execution_count": 9,
      "outputs": [
        {
          "output_type": "stream",
          "name": "stdout",
          "text": [
            "\u001b[1m15/15\u001b[0m \u001b[32m━━━━━━━━━━━━━━━━━━━━\u001b[0m\u001b[37m\u001b[0m \u001b[1m0s\u001b[0m 5ms/step - accuracy: 0.9548 - loss: 0.1439 \n",
            "Нейронна мережа — Точність: 0.9551, Функція втрат: 0.1458\n"
          ]
        },
        {
          "output_type": "display_data",
          "data": {
            "text/plain": [
              "<Figure size 640x480 with 1 Axes>"
            ],
            "image/png": "[encoded data removed]"
          },
          "metadata": {}
        }
      ]
    },
    {
      "cell_type": "code",
      "source": [
        "#8. Логістична регресія\n",
        "logreg = LogisticRegression()\n",
        "logreg.fit(X_train_scaled, y_train)\n",
        "y_pred = logreg.predict(X_test_scaled)\n"
      ],
      "metadata": {
        "id": "HfygZUbINRal"
      },
      "execution_count": 10,
      "outputs": []
    },
    {
      "cell_type": "code",
      "source": [
        "#9. Метрики логістичної регресії\n",
        "accuracy_lr = accuracy_score(y_test, y_pred)\n",
        "print(f\"Логістична регресія — Точність: {accuracy_lr:.4f}\")\n"
      ],
      "metadata": {
        "colab": {
          "base_uri": "https://localhost:8080/"
        },
        "id": "eYOJ7hFuNVeA",
        "outputId": "6e991465-209a-4513-d5fb-40e767b881bd"
      },
      "execution_count": 11,
      "outputs": [
        {
          "output_type": "stream",
          "name": "stdout",
          "text": [
            "Логістична регресія — Точність: 0.8932\n"
          ]
        }
      ]
    },
    {
      "cell_type": "code",
      "source": [
        "#10. Матриця плутанини, звіт\n",
        "print(\"Матриця плутанини:\")\n",
        "print(confusion_matrix(y_test, y_pred))\n",
        "\n",
        "print(\"\\nКласифікаційний звіт:\")\n",
        "print(classification_report(y_test, y_pred))\n"
      ],
      "metadata": {
        "colab": {
          "base_uri": "https://localhost:8080/"
        },
        "id": "9M9VbDw1NX-o",
        "outputId": "5d3b5554-bf6e-48c4-9fe2-0b54fbbc810c"
      },
      "execution_count": 12,
      "outputs": [
        {
          "output_type": "stream",
          "name": "stdout",
          "text": [
            "Матриця плутанини:\n",
            "[[207  24]\n",
            " [ 26 211]]\n",
            "\n",
            "Класифікаційний звіт:\n",
            "              precision    recall  f1-score   support\n",
            "\n",
            "           0       0.89      0.90      0.89       231\n",
            "           1       0.90      0.89      0.89       237\n",
            "\n",
            "    accuracy                           0.89       468\n",
            "   macro avg       0.89      0.89      0.89       468\n",
            "weighted avg       0.89      0.89      0.89       468\n",
            "\n"
          ]
        }
      ]
    },
    {
      "cell_type": "code",
      "source": [
        "#11. Порівняння результатів\n",
        "print(f\"Точність нейронної мережі: {accuracy:.4f}\")\n",
        "print(f\"Точність логістичної регресії: {accuracy_lr:.4f}\")\n"
      ],
      "metadata": {
        "colab": {
          "base_uri": "https://localhost:8080/"
        },
        "id": "im_xSrrqNceP",
        "outputId": "18117563-6f86-45d7-91a6-fde14ccc4d8a"
      },
      "execution_count": 13,
      "outputs": [
        {
          "output_type": "stream",
          "name": "stdout",
          "text": [
            "Точність нейронної мережі: 0.9551\n",
            "Точність логістичної регресії: 0.8932\n"
          ]
        }
      ]
    },
    {
      "cell_type": "markdown",
      "source": [
        "Висновки:\n",
        "У ході роботи було проаналізовано дані та підготовлено їх для моделювання. Створено та навчено нейронну мережу, а також логістичну регресію для порівняння результатів. Обидві моделі показали хорошу точність, проте нейронна мережа працювала трохи краще. Отже, моделі можуть бути використані для прогнозування, чи буде принцеса вилікувана на основі вхідних даних."
      ],
      "metadata": {
        "id": "g_k-S81eNwre"
      }
    }
  ]
}